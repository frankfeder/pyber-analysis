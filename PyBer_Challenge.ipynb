{
 "cells": [
  {
   "cell_type": "markdown",
   "metadata": {},
   "source": [
    "# Pyber Challenge"
   ]
  },
  {
   "cell_type": "markdown",
   "metadata": {},
   "source": [
    "### 4.3 Loading and Reading CSV files"
   ]
  },
  {
   "cell_type": "code",
   "execution_count": 32,
   "metadata": {},
   "outputs": [],
   "source": [
    "# Add Matplotlib inline magic command\n",
    "%matplotlib inline\n",
    "# Dependencies and Setup\n",
    "import matplotlib.pyplot as plt\n",
    "import pandas as pd\n",
    "\n",
    "# File to Load (Remember to change these)\n",
    "city_data_to_load = \"Resources/city_data.csv\"\n",
    "ride_data_to_load = \"Resources/ride_data.csv\"\n",
    "\n",
    "# Read the City and Ride Data\n",
    "city_data_df = pd.read_csv(city_data_to_load)\n",
    "ride_data_df = pd.read_csv(ride_data_to_load)"
   ]
  },
  {
   "cell_type": "markdown",
   "metadata": {},
   "source": [
    "### Merge the DataFrames"
   ]
  },
  {
   "cell_type": "code",
   "execution_count": 33,
   "metadata": {
    "scrolled": true
   },
   "outputs": [
    {
     "output_type": "execute_result",
     "data": {
      "text/plain": [
       "                 city                 date   fare        ride_id  \\\n",
       "0  Lake Jonathanshire  2019-01-14 10:14:22  13.83  5739410935873   \n",
       "1  South Michelleport  2019-03-04 18:24:09  30.24  2343912425577   \n",
       "2  Port Samanthamouth  2019-02-24 04:29:00  33.44  2005065760003   \n",
       "3          Rodneyfort  2019-02-10 23:22:03  23.44  5149245426178   \n",
       "4          South Jack  2019-03-06 04:28:35  34.58  3908451377344   \n",
       "\n",
       "   driver_count   type  \n",
       "0             5  Urban  \n",
       "1            72  Urban  \n",
       "2            57  Urban  \n",
       "3            34  Urban  \n",
       "4            46  Urban  "
      ],
      "text/html": "<div>\n<style scoped>\n    .dataframe tbody tr th:only-of-type {\n        vertical-align: middle;\n    }\n\n    .dataframe tbody tr th {\n        vertical-align: top;\n    }\n\n    .dataframe thead th {\n        text-align: right;\n    }\n</style>\n<table border=\"1\" class=\"dataframe\">\n  <thead>\n    <tr style=\"text-align: right;\">\n      <th></th>\n      <th>city</th>\n      <th>date</th>\n      <th>fare</th>\n      <th>ride_id</th>\n      <th>driver_count</th>\n      <th>type</th>\n    </tr>\n  </thead>\n  <tbody>\n    <tr>\n      <th>0</th>\n      <td>Lake Jonathanshire</td>\n      <td>2019-01-14 10:14:22</td>\n      <td>13.83</td>\n      <td>5739410935873</td>\n      <td>5</td>\n      <td>Urban</td>\n    </tr>\n    <tr>\n      <th>1</th>\n      <td>South Michelleport</td>\n      <td>2019-03-04 18:24:09</td>\n      <td>30.24</td>\n      <td>2343912425577</td>\n      <td>72</td>\n      <td>Urban</td>\n    </tr>\n    <tr>\n      <th>2</th>\n      <td>Port Samanthamouth</td>\n      <td>2019-02-24 04:29:00</td>\n      <td>33.44</td>\n      <td>2005065760003</td>\n      <td>57</td>\n      <td>Urban</td>\n    </tr>\n    <tr>\n      <th>3</th>\n      <td>Rodneyfort</td>\n      <td>2019-02-10 23:22:03</td>\n      <td>23.44</td>\n      <td>5149245426178</td>\n      <td>34</td>\n      <td>Urban</td>\n    </tr>\n    <tr>\n      <th>4</th>\n      <td>South Jack</td>\n      <td>2019-03-06 04:28:35</td>\n      <td>34.58</td>\n      <td>3908451377344</td>\n      <td>46</td>\n      <td>Urban</td>\n    </tr>\n  </tbody>\n</table>\n</div>"
     },
     "metadata": {},
     "execution_count": 33
    }
   ],
   "source": [
    "# Combine the data into a single dataset\n",
    "pyber_data_df = pd.merge(ride_data_df, city_data_df, how=\"left\", on=[\"city\", \"city\"])\n",
    "\n",
    "# Display the data table for preview\n",
    "pyber_data_df.head()"
   ]
  },
  {
   "cell_type": "markdown",
   "metadata": {},
   "source": [
    "## Deliverable 1: Get a Summary DataFrame "
   ]
  },
  {
   "cell_type": "code",
   "execution_count": 34,
   "metadata": {},
   "outputs": [
    {
     "output_type": "execute_result",
     "data": {
      "text/plain": [
       "type\n",
       "Rural        125\n",
       "Suburban     625\n",
       "Urban       1625\n",
       "Name: ride_id, dtype: int64"
      ]
     },
     "metadata": {},
     "execution_count": 34
    }
   ],
   "source": [
    "#  1. Get the total rides for each city type\n",
    "rides_by_type = pyber_data_df.groupby([\"type\"]).count()[\"ride_id\"]\n",
    "rides_by_type"
   ]
  },
  {
   "cell_type": "code",
   "execution_count": 35,
   "metadata": {},
   "outputs": [
    {
     "output_type": "execute_result",
     "data": {
      "text/plain": [
       "type\n",
       "Rural         78\n",
       "Suburban     490\n",
       "Urban       2405\n",
       "Name: driver_count, dtype: int64"
      ]
     },
     "metadata": {},
     "execution_count": 35
    }
   ],
   "source": [
    "# 2. Get the total drivers for each city type\n",
    "drivers_by_type = city_data_df.groupby([\"type\"]).sum()[\"driver_count\"]\n",
    "drivers_by_type"
   ]
  },
  {
   "cell_type": "code",
   "execution_count": 36,
   "metadata": {},
   "outputs": [
    {
     "output_type": "execute_result",
     "data": {
      "text/plain": [
       "type\n",
       "Rural        4327.93\n",
       "Suburban    19356.33\n",
       "Urban       39854.38\n",
       "Name: fare, dtype: float64"
      ]
     },
     "metadata": {},
     "execution_count": 36
    }
   ],
   "source": [
    "#  3. Get the total amount of fares for each city type\n",
    "total_fares_by_type = pyber_data_df.groupby([\"type\"]).sum()[\"fare\"]\n",
    "total_fares_by_type"
   ]
  },
  {
   "cell_type": "code",
   "execution_count": 37,
   "metadata": {},
   "outputs": [
    {
     "output_type": "execute_result",
     "data": {
      "text/plain": [
       "type\n",
       "Rural       34.623440\n",
       "Suburban    30.970128\n",
       "Urban       24.525772\n",
       "dtype: float64"
      ]
     },
     "metadata": {},
     "execution_count": 37
    }
   ],
   "source": [
    "#  4. Get the average fare per ride for each city type. \n",
    "fare_per_ride_by_type = total_fares_by_type /  rides_by_type\n",
    "fare_per_ride_by_type\n"
   ]
  },
  {
   "cell_type": "code",
   "execution_count": 38,
   "metadata": {},
   "outputs": [
    {
     "output_type": "execute_result",
     "data": {
      "text/plain": [
       "type\n",
       "Rural       55.486282\n",
       "Suburban    39.502714\n",
       "Urban       16.571468\n",
       "dtype: float64"
      ]
     },
     "metadata": {},
     "execution_count": 38
    }
   ],
   "source": [
    "# 5. Get the average fare per driver for each city type. \n",
    "fare_per_driver_by_type = total_fares_by_type / drivers_by_type\n",
    "fare_per_driver_by_type"
   ]
  },
  {
   "cell_type": "code",
   "execution_count": 39,
   "metadata": {},
   "outputs": [
    {
     "output_type": "execute_result",
     "data": {
      "text/plain": [
       "          Total Rides  Total Drivers  Total Fares  Average Fare per Ride  \\\n",
       "type                                                                       \n",
       "Rural             125             78      4327.93              34.623440   \n",
       "Suburban          625            490     19356.33              30.970128   \n",
       "Urban            1625           2405     39854.38              24.525772   \n",
       "\n",
       "          Average Fare per Driver  \n",
       "type                               \n",
       "Rural                   55.486282  \n",
       "Suburban                39.502714  \n",
       "Urban                   16.571468  "
      ],
      "text/html": "<div>\n<style scoped>\n    .dataframe tbody tr th:only-of-type {\n        vertical-align: middle;\n    }\n\n    .dataframe tbody tr th {\n        vertical-align: top;\n    }\n\n    .dataframe thead th {\n        text-align: right;\n    }\n</style>\n<table border=\"1\" class=\"dataframe\">\n  <thead>\n    <tr style=\"text-align: right;\">\n      <th></th>\n      <th>Total Rides</th>\n      <th>Total Drivers</th>\n      <th>Total Fares</th>\n      <th>Average Fare per Ride</th>\n      <th>Average Fare per Driver</th>\n    </tr>\n    <tr>\n      <th>type</th>\n      <th></th>\n      <th></th>\n      <th></th>\n      <th></th>\n      <th></th>\n    </tr>\n  </thead>\n  <tbody>\n    <tr>\n      <th>Rural</th>\n      <td>125</td>\n      <td>78</td>\n      <td>4327.93</td>\n      <td>34.623440</td>\n      <td>55.486282</td>\n    </tr>\n    <tr>\n      <th>Suburban</th>\n      <td>625</td>\n      <td>490</td>\n      <td>19356.33</td>\n      <td>30.970128</td>\n      <td>39.502714</td>\n    </tr>\n    <tr>\n      <th>Urban</th>\n      <td>1625</td>\n      <td>2405</td>\n      <td>39854.38</td>\n      <td>24.525772</td>\n      <td>16.571468</td>\n    </tr>\n  </tbody>\n</table>\n</div>"
     },
     "metadata": {},
     "execution_count": 39
    }
   ],
   "source": [
    "#  6. Create a PyBer summary DataFrame. \n",
    "colsToFrame = {\"Total Rides\" : rides_by_type,\n",
    "               \"Total Drivers\" : drivers_by_type,\n",
    "               \"Total Fares\" : total_fares_by_type,\n",
    "               \"Average Fare per Ride\" : fare_per_ride_by_type,\n",
    "               \"Average Fare per Driver\" : fare_per_driver_by_type}\n",
    "pyber_summary_df = pd.DataFrame(colsToFrame)\n",
    "pyber_summary_df"
   ]
  },
  {
   "cell_type": "code",
   "execution_count": 40,
   "metadata": {},
   "outputs": [],
   "source": [
    "#  7. Cleaning up the DataFrame. Delete the index name\n",
    "pyber_summary_df.index.name = None"
   ]
  },
  {
   "cell_type": "code",
   "execution_count": 41,
   "metadata": {},
   "outputs": [
    {
     "output_type": "execute_result",
     "data": {
      "text/plain": [
       "         Total Rides Total Drivers Total Fares Average Fare per Ride  \\\n",
       "Rural            125            78   $4,327.93                $34.62   \n",
       "Suburban         625           490  $19,356.33                $30.97   \n",
       "Urban          1,625         2,405  $39,854.38                $24.53   \n",
       "\n",
       "         Average Fare per Driver  \n",
       "Rural                     $55.49  \n",
       "Suburban                  $39.50  \n",
       "Urban                     $16.57  "
      ],
      "text/html": "<div>\n<style scoped>\n    .dataframe tbody tr th:only-of-type {\n        vertical-align: middle;\n    }\n\n    .dataframe tbody tr th {\n        vertical-align: top;\n    }\n\n    .dataframe thead th {\n        text-align: right;\n    }\n</style>\n<table border=\"1\" class=\"dataframe\">\n  <thead>\n    <tr style=\"text-align: right;\">\n      <th></th>\n      <th>Total Rides</th>\n      <th>Total Drivers</th>\n      <th>Total Fares</th>\n      <th>Average Fare per Ride</th>\n      <th>Average Fare per Driver</th>\n    </tr>\n  </thead>\n  <tbody>\n    <tr>\n      <th>Rural</th>\n      <td>125</td>\n      <td>78</td>\n      <td>$4,327.93</td>\n      <td>$34.62</td>\n      <td>$55.49</td>\n    </tr>\n    <tr>\n      <th>Suburban</th>\n      <td>625</td>\n      <td>490</td>\n      <td>$19,356.33</td>\n      <td>$30.97</td>\n      <td>$39.50</td>\n    </tr>\n    <tr>\n      <th>Urban</th>\n      <td>1,625</td>\n      <td>2,405</td>\n      <td>$39,854.38</td>\n      <td>$24.53</td>\n      <td>$16.57</td>\n    </tr>\n  </tbody>\n</table>\n</div>"
     },
     "metadata": {},
     "execution_count": 41
    }
   ],
   "source": [
    "#  8. Format the columns.\n",
    "pyber_summary_df[\"Total Rides\"] = pyber_summary_df[\"Total Rides\"].map(\"{:,}\".format)\n",
    "pyber_summary_df[\"Total Drivers\"] = pyber_summary_df[\"Total Drivers\"].map(\"{:,}\".format)\n",
    "pyber_summary_df[\"Total Fares\"] = pyber_summary_df[\"Total Fares\"].map(\"${:,.2f}\".format)\n",
    "pyber_summary_df[\"Average Fare per Ride\"] = pyber_summary_df[\"Average Fare per Ride\"].map(\"${:,.2f}\".format)\n",
    "pyber_summary_df[\"Average Fare per Driver\"] = pyber_summary_df[\"Average Fare per Driver\"].map(\"${:,.2f}\".format)\n",
    "pyber_summary_df"
   ]
  },
  {
   "cell_type": "markdown",
   "metadata": {},
   "source": [
    "## Deliverable 2.  Create a multiple line plot that shows the total weekly of the fares for each type of city."
   ]
  },
  {
   "cell_type": "code",
   "execution_count": 52,
   "metadata": {},
   "outputs": [
    {
     "output_type": "execute_result",
     "data": {
      "text/plain": [
       "                 city                 date   fare        ride_id  \\\n",
       "0  Lake Jonathanshire  2019-01-14 10:14:22  13.83  5739410935873   \n",
       "1  South Michelleport  2019-03-04 18:24:09  30.24  2343912425577   \n",
       "2  Port Samanthamouth  2019-02-24 04:29:00  33.44  2005065760003   \n",
       "3          Rodneyfort  2019-02-10 23:22:03  23.44  5149245426178   \n",
       "4          South Jack  2019-03-06 04:28:35  34.58  3908451377344   \n",
       "\n",
       "   driver_count   type  \n",
       "0             5  Urban  \n",
       "1            72  Urban  \n",
       "2            57  Urban  \n",
       "3            34  Urban  \n",
       "4            46  Urban  "
      ],
      "text/html": "<div>\n<style scoped>\n    .dataframe tbody tr th:only-of-type {\n        vertical-align: middle;\n    }\n\n    .dataframe tbody tr th {\n        vertical-align: top;\n    }\n\n    .dataframe thead th {\n        text-align: right;\n    }\n</style>\n<table border=\"1\" class=\"dataframe\">\n  <thead>\n    <tr style=\"text-align: right;\">\n      <th></th>\n      <th>city</th>\n      <th>date</th>\n      <th>fare</th>\n      <th>ride_id</th>\n      <th>driver_count</th>\n      <th>type</th>\n    </tr>\n  </thead>\n  <tbody>\n    <tr>\n      <th>0</th>\n      <td>Lake Jonathanshire</td>\n      <td>2019-01-14 10:14:22</td>\n      <td>13.83</td>\n      <td>5739410935873</td>\n      <td>5</td>\n      <td>Urban</td>\n    </tr>\n    <tr>\n      <th>1</th>\n      <td>South Michelleport</td>\n      <td>2019-03-04 18:24:09</td>\n      <td>30.24</td>\n      <td>2343912425577</td>\n      <td>72</td>\n      <td>Urban</td>\n    </tr>\n    <tr>\n      <th>2</th>\n      <td>Port Samanthamouth</td>\n      <td>2019-02-24 04:29:00</td>\n      <td>33.44</td>\n      <td>2005065760003</td>\n      <td>57</td>\n      <td>Urban</td>\n    </tr>\n    <tr>\n      <th>3</th>\n      <td>Rodneyfort</td>\n      <td>2019-02-10 23:22:03</td>\n      <td>23.44</td>\n      <td>5149245426178</td>\n      <td>34</td>\n      <td>Urban</td>\n    </tr>\n    <tr>\n      <th>4</th>\n      <td>South Jack</td>\n      <td>2019-03-06 04:28:35</td>\n      <td>34.58</td>\n      <td>3908451377344</td>\n      <td>46</td>\n      <td>Urban</td>\n    </tr>\n  </tbody>\n</table>\n</div>"
     },
     "metadata": {},
     "execution_count": 52
    }
   ],
   "source": [
    "# 1. Read the merged DataFrame\n",
    "pyber_data_df.head()\n"
   ]
  },
  {
   "cell_type": "code",
   "execution_count": 56,
   "metadata": {},
   "outputs": [
    {
     "output_type": "execute_result",
     "data": {
      "text/plain": [
       "type   date               \n",
       "Rural  2019-01-01 09:45:36    43.69\n",
       "       2019-01-02 11:18:32    52.12\n",
       "       2019-01-03 19:51:01    19.90\n",
       "       2019-01-04 03:31:26    24.88\n",
       "       2019-01-06 07:38:40    47.33\n",
       "                              ...  \n",
       "Urban  2019-05-08 04:20:00    21.99\n",
       "       2019-05-08 04:39:49    18.45\n",
       "       2019-05-08 07:29:01    18.55\n",
       "       2019-05-08 11:38:35    19.77\n",
       "       2019-05-08 13:10:18    18.04\n",
       "Name: fare, Length: 2375, dtype: float64"
      ]
     },
     "metadata": {},
     "execution_count": 56
    }
   ],
   "source": [
    "# 2. Using groupby() to create a new DataFrame showing the sum of the fares \n",
    "#  for each date where the indices are the city type and date.\n",
    "pyber_date_type_df = pyber_data_df.groupby([\"type\",\"date\"]).sum()[\"fare\"]\n",
    "pyber_date_type_df"
   ]
  },
  {
   "cell_type": "code",
   "execution_count": 57,
   "metadata": {},
   "outputs": [
    {
     "output_type": "execute_result",
     "data": {
      "text/plain": [
       "       type                 date   fare\n",
       "0     Rural  2019-01-01 09:45:36  43.69\n",
       "1     Rural  2019-01-02 11:18:32  52.12\n",
       "2     Rural  2019-01-03 19:51:01  19.90\n",
       "3     Rural  2019-01-04 03:31:26  24.88\n",
       "4     Rural  2019-01-06 07:38:40  47.33\n",
       "...     ...                  ...    ...\n",
       "2370  Urban  2019-05-08 04:20:00  21.99\n",
       "2371  Urban  2019-05-08 04:39:49  18.45\n",
       "2372  Urban  2019-05-08 07:29:01  18.55\n",
       "2373  Urban  2019-05-08 11:38:35  19.77\n",
       "2374  Urban  2019-05-08 13:10:18  18.04\n",
       "\n",
       "[2375 rows x 3 columns]"
      ],
      "text/html": "<div>\n<style scoped>\n    .dataframe tbody tr th:only-of-type {\n        vertical-align: middle;\n    }\n\n    .dataframe tbody tr th {\n        vertical-align: top;\n    }\n\n    .dataframe thead th {\n        text-align: right;\n    }\n</style>\n<table border=\"1\" class=\"dataframe\">\n  <thead>\n    <tr style=\"text-align: right;\">\n      <th></th>\n      <th>type</th>\n      <th>date</th>\n      <th>fare</th>\n    </tr>\n  </thead>\n  <tbody>\n    <tr>\n      <th>0</th>\n      <td>Rural</td>\n      <td>2019-01-01 09:45:36</td>\n      <td>43.69</td>\n    </tr>\n    <tr>\n      <th>1</th>\n      <td>Rural</td>\n      <td>2019-01-02 11:18:32</td>\n      <td>52.12</td>\n    </tr>\n    <tr>\n      <th>2</th>\n      <td>Rural</td>\n      <td>2019-01-03 19:51:01</td>\n      <td>19.90</td>\n    </tr>\n    <tr>\n      <th>3</th>\n      <td>Rural</td>\n      <td>2019-01-04 03:31:26</td>\n      <td>24.88</td>\n    </tr>\n    <tr>\n      <th>4</th>\n      <td>Rural</td>\n      <td>2019-01-06 07:38:40</td>\n      <td>47.33</td>\n    </tr>\n    <tr>\n      <th>...</th>\n      <td>...</td>\n      <td>...</td>\n      <td>...</td>\n    </tr>\n    <tr>\n      <th>2370</th>\n      <td>Urban</td>\n      <td>2019-05-08 04:20:00</td>\n      <td>21.99</td>\n    </tr>\n    <tr>\n      <th>2371</th>\n      <td>Urban</td>\n      <td>2019-05-08 04:39:49</td>\n      <td>18.45</td>\n    </tr>\n    <tr>\n      <th>2372</th>\n      <td>Urban</td>\n      <td>2019-05-08 07:29:01</td>\n      <td>18.55</td>\n    </tr>\n    <tr>\n      <th>2373</th>\n      <td>Urban</td>\n      <td>2019-05-08 11:38:35</td>\n      <td>19.77</td>\n    </tr>\n    <tr>\n      <th>2374</th>\n      <td>Urban</td>\n      <td>2019-05-08 13:10:18</td>\n      <td>18.04</td>\n    </tr>\n  </tbody>\n</table>\n<p>2375 rows × 3 columns</p>\n</div>"
     },
     "metadata": {},
     "execution_count": 57
    }
   ],
   "source": [
    "# 3. Reset the index on the DataFrame you created in #1. This is needed to use the 'pivot()' function.\n",
    "pyber_date_type_df = pyber_date_type_df.reset_index()\n",
    "pyber_date_type_df"
   ]
  },
  {
   "cell_type": "code",
   "execution_count": 63,
   "metadata": {},
   "outputs": [
    {
     "output_type": "execute_result",
     "data": {
      "text/plain": [
       "type                 Rural  Suburban  Urban\n",
       "date                                       \n",
       "2019-01-01 00:08:16    NaN       NaN  37.91\n",
       "2019-01-01 00:46:46    NaN     47.74    NaN\n",
       "2019-01-01 02:07:24    NaN     24.07    NaN\n",
       "2019-01-01 03:46:50    NaN       NaN   7.57\n",
       "2019-01-01 05:23:21    NaN       NaN  10.75\n",
       "...                    ...       ...    ...\n",
       "2019-05-08 04:20:00    NaN       NaN  21.99\n",
       "2019-05-08 04:39:49    NaN       NaN  18.45\n",
       "2019-05-08 07:29:01    NaN       NaN  18.55\n",
       "2019-05-08 11:38:35    NaN       NaN  19.77\n",
       "2019-05-08 13:10:18    NaN       NaN  18.04\n",
       "\n",
       "[2375 rows x 3 columns]"
      ],
      "text/html": "<div>\n<style scoped>\n    .dataframe tbody tr th:only-of-type {\n        vertical-align: middle;\n    }\n\n    .dataframe tbody tr th {\n        vertical-align: top;\n    }\n\n    .dataframe thead th {\n        text-align: right;\n    }\n</style>\n<table border=\"1\" class=\"dataframe\">\n  <thead>\n    <tr style=\"text-align: right;\">\n      <th>type</th>\n      <th>Rural</th>\n      <th>Suburban</th>\n      <th>Urban</th>\n    </tr>\n    <tr>\n      <th>date</th>\n      <th></th>\n      <th></th>\n      <th></th>\n    </tr>\n  </thead>\n  <tbody>\n    <tr>\n      <th>2019-01-01 00:08:16</th>\n      <td>NaN</td>\n      <td>NaN</td>\n      <td>37.91</td>\n    </tr>\n    <tr>\n      <th>2019-01-01 00:46:46</th>\n      <td>NaN</td>\n      <td>47.74</td>\n      <td>NaN</td>\n    </tr>\n    <tr>\n      <th>2019-01-01 02:07:24</th>\n      <td>NaN</td>\n      <td>24.07</td>\n      <td>NaN</td>\n    </tr>\n    <tr>\n      <th>2019-01-01 03:46:50</th>\n      <td>NaN</td>\n      <td>NaN</td>\n      <td>7.57</td>\n    </tr>\n    <tr>\n      <th>2019-01-01 05:23:21</th>\n      <td>NaN</td>\n      <td>NaN</td>\n      <td>10.75</td>\n    </tr>\n    <tr>\n      <th>...</th>\n      <td>...</td>\n      <td>...</td>\n      <td>...</td>\n    </tr>\n    <tr>\n      <th>2019-05-08 04:20:00</th>\n      <td>NaN</td>\n      <td>NaN</td>\n      <td>21.99</td>\n    </tr>\n    <tr>\n      <th>2019-05-08 04:39:49</th>\n      <td>NaN</td>\n      <td>NaN</td>\n      <td>18.45</td>\n    </tr>\n    <tr>\n      <th>2019-05-08 07:29:01</th>\n      <td>NaN</td>\n      <td>NaN</td>\n      <td>18.55</td>\n    </tr>\n    <tr>\n      <th>2019-05-08 11:38:35</th>\n      <td>NaN</td>\n      <td>NaN</td>\n      <td>19.77</td>\n    </tr>\n    <tr>\n      <th>2019-05-08 13:10:18</th>\n      <td>NaN</td>\n      <td>NaN</td>\n      <td>18.04</td>\n    </tr>\n  </tbody>\n</table>\n<p>2375 rows × 3 columns</p>\n</div>"
     },
     "metadata": {},
     "execution_count": 63
    }
   ],
   "source": [
    "# 4. Create a pivot table with the 'date' as the index, the columns ='type', and values='fare' \n",
    "# to get the total fares for each type of city by the date. \n",
    "date_type_pivot = pyber_date_type_df.pivot(index=\"date\", columns=\"type\", values=\"fare\")\n",
    "date_type_pivot"
   ]
  },
  {
   "cell_type": "code",
   "execution_count": 70,
   "metadata": {},
   "outputs": [
    {
     "output_type": "execute_result",
     "data": {
      "text/plain": [
       "type                 Rural  Suburban  Urban\n",
       "date                                       \n",
       "2019-01-01 00:08:16    NaN       NaN  37.91\n",
       "2019-01-01 00:46:46    NaN     47.74    NaN\n",
       "2019-01-01 02:07:24    NaN     24.07    NaN\n",
       "2019-01-01 03:46:50    NaN       NaN   7.57\n",
       "2019-01-01 05:23:21    NaN       NaN  10.75\n",
       "...                    ...       ...    ...\n",
       "2019-04-28 14:28:36    NaN       NaN  11.46\n",
       "2019-04-28 16:29:16    NaN       NaN  36.42\n",
       "2019-04-28 17:26:52    NaN       NaN  31.43\n",
       "2019-04-28 17:38:09    NaN     34.87    NaN\n",
       "2019-04-28 19:35:03    NaN     16.96    NaN\n",
       "\n",
       "[2196 rows x 3 columns]"
      ],
      "text/html": "<div>\n<style scoped>\n    .dataframe tbody tr th:only-of-type {\n        vertical-align: middle;\n    }\n\n    .dataframe tbody tr th {\n        vertical-align: top;\n    }\n\n    .dataframe thead th {\n        text-align: right;\n    }\n</style>\n<table border=\"1\" class=\"dataframe\">\n  <thead>\n    <tr style=\"text-align: right;\">\n      <th>type</th>\n      <th>Rural</th>\n      <th>Suburban</th>\n      <th>Urban</th>\n    </tr>\n    <tr>\n      <th>date</th>\n      <th></th>\n      <th></th>\n      <th></th>\n    </tr>\n  </thead>\n  <tbody>\n    <tr>\n      <th>2019-01-01 00:08:16</th>\n      <td>NaN</td>\n      <td>NaN</td>\n      <td>37.91</td>\n    </tr>\n    <tr>\n      <th>2019-01-01 00:46:46</th>\n      <td>NaN</td>\n      <td>47.74</td>\n      <td>NaN</td>\n    </tr>\n    <tr>\n      <th>2019-01-01 02:07:24</th>\n      <td>NaN</td>\n      <td>24.07</td>\n      <td>NaN</td>\n    </tr>\n    <tr>\n      <th>2019-01-01 03:46:50</th>\n      <td>NaN</td>\n      <td>NaN</td>\n      <td>7.57</td>\n    </tr>\n    <tr>\n      <th>2019-01-01 05:23:21</th>\n      <td>NaN</td>\n      <td>NaN</td>\n      <td>10.75</td>\n    </tr>\n    <tr>\n      <th>...</th>\n      <td>...</td>\n      <td>...</td>\n      <td>...</td>\n    </tr>\n    <tr>\n      <th>2019-04-28 14:28:36</th>\n      <td>NaN</td>\n      <td>NaN</td>\n      <td>11.46</td>\n    </tr>\n    <tr>\n      <th>2019-04-28 16:29:16</th>\n      <td>NaN</td>\n      <td>NaN</td>\n      <td>36.42</td>\n    </tr>\n    <tr>\n      <th>2019-04-28 17:26:52</th>\n      <td>NaN</td>\n      <td>NaN</td>\n      <td>31.43</td>\n    </tr>\n    <tr>\n      <th>2019-04-28 17:38:09</th>\n      <td>NaN</td>\n      <td>34.87</td>\n      <td>NaN</td>\n    </tr>\n    <tr>\n      <th>2019-04-28 19:35:03</th>\n      <td>NaN</td>\n      <td>16.96</td>\n      <td>NaN</td>\n    </tr>\n  </tbody>\n</table>\n<p>2196 rows × 3 columns</p>\n</div>"
     },
     "metadata": {},
     "execution_count": 70
    }
   ],
   "source": [
    "# 5. Create a new DataFrame from the pivot table DataFrame using loc on the given dates, '2019-01-01':'2019-04-29'.\n",
    "Q12019_date_type = date_type_pivot.loc[(date_type_pivot.index >= '2019-01-01') & (date_type_pivot.index < '2019-04-29'),]\n",
    "Q12019_date_type\n"
   ]
  },
  {
   "cell_type": "code",
   "execution_count": 71,
   "metadata": {},
   "outputs": [],
   "source": [
    "# 6. Set the \"date\" index to datetime datatype. This is necessary to use the resample() method in Step 8.\n",
    "Q12019_date_type.index = pd.to_datetime(Q12019_date_type.index)"
   ]
  },
  {
   "cell_type": "code",
   "execution_count": 72,
   "metadata": {},
   "outputs": [
    {
     "output_type": "stream",
     "name": "stdout",
     "text": [
      "<class 'pandas.core.frame.DataFrame'>\nDatetimeIndex: 2196 entries, 2019-01-01 00:08:16 to 2019-04-28 19:35:03\nData columns (total 3 columns):\n #   Column    Non-Null Count  Dtype  \n---  ------    --------------  -----  \n 0   Rural     114 non-null    float64\n 1   Suburban  573 non-null    float64\n 2   Urban     1509 non-null   float64\ndtypes: float64(3)\nmemory usage: 148.6 KB\n"
     ]
    }
   ],
   "source": [
    "# 7. Check that the datatype for the index is datetime using df.info()\n",
    "Q12019_date_type.info()"
   ]
  },
  {
   "cell_type": "code",
   "execution_count": 73,
   "metadata": {},
   "outputs": [
    {
     "output_type": "execute_result",
     "data": {
      "text/plain": [
       "type         Rural  Suburban    Urban\n",
       "date                                 \n",
       "2019-01-06  187.92    721.60  1661.68\n",
       "2019-01-13   67.65   1105.13  2050.43\n",
       "2019-01-20  306.00   1218.20  1939.02\n",
       "2019-01-27  179.69   1203.28  2129.51\n",
       "2019-02-03  333.08   1042.79  2086.94"
      ],
      "text/html": "<div>\n<style scoped>\n    .dataframe tbody tr th:only-of-type {\n        vertical-align: middle;\n    }\n\n    .dataframe tbody tr th {\n        vertical-align: top;\n    }\n\n    .dataframe thead th {\n        text-align: right;\n    }\n</style>\n<table border=\"1\" class=\"dataframe\">\n  <thead>\n    <tr style=\"text-align: right;\">\n      <th>type</th>\n      <th>Rural</th>\n      <th>Suburban</th>\n      <th>Urban</th>\n    </tr>\n    <tr>\n      <th>date</th>\n      <th></th>\n      <th></th>\n      <th></th>\n    </tr>\n  </thead>\n  <tbody>\n    <tr>\n      <th>2019-01-06</th>\n      <td>187.92</td>\n      <td>721.60</td>\n      <td>1661.68</td>\n    </tr>\n    <tr>\n      <th>2019-01-13</th>\n      <td>67.65</td>\n      <td>1105.13</td>\n      <td>2050.43</td>\n    </tr>\n    <tr>\n      <th>2019-01-20</th>\n      <td>306.00</td>\n      <td>1218.20</td>\n      <td>1939.02</td>\n    </tr>\n    <tr>\n      <th>2019-01-27</th>\n      <td>179.69</td>\n      <td>1203.28</td>\n      <td>2129.51</td>\n    </tr>\n    <tr>\n      <th>2019-02-03</th>\n      <td>333.08</td>\n      <td>1042.79</td>\n      <td>2086.94</td>\n    </tr>\n  </tbody>\n</table>\n</div>"
     },
     "metadata": {},
     "execution_count": 73
    }
   ],
   "source": [
    "# 8. Create a new DataFrame using the \"resample()\" function by week 'W' and get the sum of the fares for each week.\n",
    "Q12019_date_type_week = Q12019_date_type.resample(\"W\").sum()\n",
    "Q12019_date_type_week.head()"
   ]
  },
  {
   "cell_type": "code",
   "execution_count": 84,
   "metadata": {},
   "outputs": [
    {
     "output_type": "display_data",
     "data": {
      "text/plain": "<Figure size 432x288 with 1 Axes>",
      "image/svg+xml": "<?xml version=\"1.0\" encoding=\"utf-8\" standalone=\"no\"?>\r\n<!DOCTYPE svg PUBLIC \"-//W3C//DTD SVG 1.1//EN\"\r\n  \"http://www.w3.org/Graphics/SVG/1.1/DTD/svg11.dtd\">\r\n<!-- Created with matplotlib (https://matplotlib.org/) -->\r\n<svg height=\"301.603188pt\" version=\"1.1\" viewBox=\"0 0 444.98375 301.603188\" width=\"444.98375pt\" xmlns=\"http://www.w3.org/2000/svg\" xmlns:xlink=\"http://www.w3.org/1999/xlink\">\r\n <metadata>\r\n  <rdf:RDF xmlns:cc=\"http://creativecommons.org/ns#\" xmlns:dc=\"http://purl.org/dc/elements/1.1/\" xmlns:rdf=\"http://www.w3.org/1999/02/22-rdf-syntax-ns#\">\r\n   <cc:Work>\r\n    <dc:type rdf:resource=\"http://purl.org/dc/dcmitype/StillImage\"/>\r\n    <dc:date>2021-01-24T16:12:51.032930</dc:date>\r\n    <dc:format>image/svg+xml</dc:format>\r\n    <dc:creator>\r\n     <cc:Agent>\r\n      <dc:title>Matplotlib v3.3.2, https://matplotlib.org/</dc:title>\r\n     </cc:Agent>\r\n    </dc:creator>\r\n   </cc:Work>\r\n  </rdf:RDF>\r\n </metadata>\r\n <defs>\r\n  <style type=\"text/css\">*{stroke-linecap:butt;stroke-linejoin:round;}</style>\r\n </defs>\r\n <g id=\"figure_1\">\r\n  <g id=\"patch_1\">\r\n   <path d=\"M -0 301.603188 \r\nL 444.98375 301.603188 \r\nL 444.98375 0 \r\nL -0 0 \r\nz\r\n\" style=\"fill:#f0f0f0;\"/>\r\n  </g>\r\n  <g id=\"axes_1\">\r\n   <g id=\"patch_2\">\r\n    <path d=\"M 61.94375 261.676875 \r\nL 437.78375 261.676875 \r\nL 437.78375 28.396875 \r\nL 61.94375 28.396875 \r\nz\r\n\" style=\"fill:#f0f0f0;\"/>\r\n   </g>\r\n   <g id=\"matplotlib.axis_1\">\r\n    <g id=\"xtick_1\">\r\n     <g id=\"line2d_1\">\r\n      <path clip-path=\"url(#p157dc70369)\" d=\"M 61.94375 261.676875 \r\nL 61.94375 28.396875 \r\n\" style=\"fill:none;stroke:#cbcbcb;\"/>\r\n     </g>\r\n     <g id=\"line2d_2\"/>\r\n     <g id=\"text_1\">\r\n      <!-- Jan -->\r\n      <g transform=\"translate(51.152812 275.814688)scale(0.14 -0.14)\">\r\n       <defs>\r\n        <path d=\"M 9.8125 72.90625 \r\nL 19.671875 72.90625 \r\nL 19.671875 5.078125 \r\nQ 19.671875 -8.109375 14.671875 -14.0625 \r\nQ 9.671875 -20.015625 -1.421875 -20.015625 \r\nL -5.171875 -20.015625 \r\nL -5.171875 -11.71875 \r\nL -2.09375 -11.71875 \r\nQ 4.4375 -11.71875 7.125 -8.046875 \r\nQ 9.8125 -4.390625 9.8125 5.078125 \r\nz\r\n\" id=\"DejaVuSans-74\"/>\r\n        <path d=\"M 34.28125 27.484375 \r\nQ 23.390625 27.484375 19.1875 25 \r\nQ 14.984375 22.515625 14.984375 16.5 \r\nQ 14.984375 11.71875 18.140625 8.90625 \r\nQ 21.296875 6.109375 26.703125 6.109375 \r\nQ 34.1875 6.109375 38.703125 11.40625 \r\nQ 43.21875 16.703125 43.21875 25.484375 \r\nL 43.21875 27.484375 \r\nz\r\nM 52.203125 31.203125 \r\nL 52.203125 0 \r\nL 43.21875 0 \r\nL 43.21875 8.296875 \r\nQ 40.140625 3.328125 35.546875 0.953125 \r\nQ 30.953125 -1.421875 24.3125 -1.421875 \r\nQ 15.921875 -1.421875 10.953125 3.296875 \r\nQ 6 8.015625 6 15.921875 \r\nQ 6 25.140625 12.171875 29.828125 \r\nQ 18.359375 34.515625 30.609375 34.515625 \r\nL 43.21875 34.515625 \r\nL 43.21875 35.40625 \r\nQ 43.21875 41.609375 39.140625 45 \r\nQ 35.0625 48.390625 27.6875 48.390625 \r\nQ 23 48.390625 18.546875 47.265625 \r\nQ 14.109375 46.140625 10.015625 43.890625 \r\nL 10.015625 52.203125 \r\nQ 14.9375 54.109375 19.578125 55.046875 \r\nQ 24.21875 56 28.609375 56 \r\nQ 40.484375 56 46.34375 49.84375 \r\nQ 52.203125 43.703125 52.203125 31.203125 \r\nz\r\n\" id=\"DejaVuSans-97\"/>\r\n        <path d=\"M 54.890625 33.015625 \r\nL 54.890625 0 \r\nL 45.90625 0 \r\nL 45.90625 32.71875 \r\nQ 45.90625 40.484375 42.875 44.328125 \r\nQ 39.84375 48.1875 33.796875 48.1875 \r\nQ 26.515625 48.1875 22.3125 43.546875 \r\nQ 18.109375 38.921875 18.109375 30.90625 \r\nL 18.109375 0 \r\nL 9.078125 0 \r\nL 9.078125 54.6875 \r\nL 18.109375 54.6875 \r\nL 18.109375 46.1875 \r\nQ 21.34375 51.125 25.703125 53.5625 \r\nQ 30.078125 56 35.796875 56 \r\nQ 45.21875 56 50.046875 50.171875 \r\nQ 54.890625 44.34375 54.890625 33.015625 \r\nz\r\n\" id=\"DejaVuSans-110\"/>\r\n       </defs>\r\n       <use xlink:href=\"#DejaVuSans-74\"/>\r\n       <use x=\"29.492188\" xlink:href=\"#DejaVuSans-97\"/>\r\n       <use x=\"90.771484\" xlink:href=\"#DejaVuSans-110\"/>\r\n      </g>\r\n      <!-- 2019 -->\r\n      <g transform=\"translate(44.12875 291.491625)scale(0.14 -0.14)\">\r\n       <defs>\r\n        <path d=\"M 19.1875 8.296875 \r\nL 53.609375 8.296875 \r\nL 53.609375 0 \r\nL 7.328125 0 \r\nL 7.328125 8.296875 \r\nQ 12.9375 14.109375 22.625 23.890625 \r\nQ 32.328125 33.6875 34.8125 36.53125 \r\nQ 39.546875 41.84375 41.421875 45.53125 \r\nQ 43.3125 49.21875 43.3125 52.78125 \r\nQ 43.3125 58.59375 39.234375 62.25 \r\nQ 35.15625 65.921875 28.609375 65.921875 \r\nQ 23.96875 65.921875 18.8125 64.3125 \r\nQ 13.671875 62.703125 7.8125 59.421875 \r\nL 7.8125 69.390625 \r\nQ 13.765625 71.78125 18.9375 73 \r\nQ 24.125 74.21875 28.421875 74.21875 \r\nQ 39.75 74.21875 46.484375 68.546875 \r\nQ 53.21875 62.890625 53.21875 53.421875 \r\nQ 53.21875 48.921875 51.53125 44.890625 \r\nQ 49.859375 40.875 45.40625 35.40625 \r\nQ 44.1875 33.984375 37.640625 27.21875 \r\nQ 31.109375 20.453125 19.1875 8.296875 \r\nz\r\n\" id=\"DejaVuSans-50\"/>\r\n        <path d=\"M 31.78125 66.40625 \r\nQ 24.171875 66.40625 20.328125 58.90625 \r\nQ 16.5 51.421875 16.5 36.375 \r\nQ 16.5 21.390625 20.328125 13.890625 \r\nQ 24.171875 6.390625 31.78125 6.390625 \r\nQ 39.453125 6.390625 43.28125 13.890625 \r\nQ 47.125 21.390625 47.125 36.375 \r\nQ 47.125 51.421875 43.28125 58.90625 \r\nQ 39.453125 66.40625 31.78125 66.40625 \r\nz\r\nM 31.78125 74.21875 \r\nQ 44.046875 74.21875 50.515625 64.515625 \r\nQ 56.984375 54.828125 56.984375 36.375 \r\nQ 56.984375 17.96875 50.515625 8.265625 \r\nQ 44.046875 -1.421875 31.78125 -1.421875 \r\nQ 19.53125 -1.421875 13.0625 8.265625 \r\nQ 6.59375 17.96875 6.59375 36.375 \r\nQ 6.59375 54.828125 13.0625 64.515625 \r\nQ 19.53125 74.21875 31.78125 74.21875 \r\nz\r\n\" id=\"DejaVuSans-48\"/>\r\n        <path d=\"M 12.40625 8.296875 \r\nL 28.515625 8.296875 \r\nL 28.515625 63.921875 \r\nL 10.984375 60.40625 \r\nL 10.984375 69.390625 \r\nL 28.421875 72.90625 \r\nL 38.28125 72.90625 \r\nL 38.28125 8.296875 \r\nL 54.390625 8.296875 \r\nL 54.390625 0 \r\nL 12.40625 0 \r\nz\r\n\" id=\"DejaVuSans-49\"/>\r\n        <path d=\"M 10.984375 1.515625 \r\nL 10.984375 10.5 \r\nQ 14.703125 8.734375 18.5 7.8125 \r\nQ 22.3125 6.890625 25.984375 6.890625 \r\nQ 35.75 6.890625 40.890625 13.453125 \r\nQ 46.046875 20.015625 46.78125 33.40625 \r\nQ 43.953125 29.203125 39.59375 26.953125 \r\nQ 35.25 24.703125 29.984375 24.703125 \r\nQ 19.046875 24.703125 12.671875 31.3125 \r\nQ 6.296875 37.9375 6.296875 49.421875 \r\nQ 6.296875 60.640625 12.9375 67.421875 \r\nQ 19.578125 74.21875 30.609375 74.21875 \r\nQ 43.265625 74.21875 49.921875 64.515625 \r\nQ 56.59375 54.828125 56.59375 36.375 \r\nQ 56.59375 19.140625 48.40625 8.859375 \r\nQ 40.234375 -1.421875 26.421875 -1.421875 \r\nQ 22.703125 -1.421875 18.890625 -0.6875 \r\nQ 15.09375 0.046875 10.984375 1.515625 \r\nz\r\nM 30.609375 32.421875 \r\nQ 37.25 32.421875 41.125 36.953125 \r\nQ 45.015625 41.5 45.015625 49.421875 \r\nQ 45.015625 57.28125 41.125 61.84375 \r\nQ 37.25 66.40625 30.609375 66.40625 \r\nQ 23.96875 66.40625 20.09375 61.84375 \r\nQ 16.21875 57.28125 16.21875 49.421875 \r\nQ 16.21875 41.5 20.09375 36.953125 \r\nQ 23.96875 32.421875 30.609375 32.421875 \r\nz\r\n\" id=\"DejaVuSans-57\"/>\r\n       </defs>\r\n       <use xlink:href=\"#DejaVuSans-50\"/>\r\n       <use x=\"63.623047\" xlink:href=\"#DejaVuSans-48\"/>\r\n       <use x=\"127.246094\" xlink:href=\"#DejaVuSans-49\"/>\r\n       <use x=\"190.869141\" xlink:href=\"#DejaVuSans-57\"/>\r\n      </g>\r\n     </g>\r\n    </g>\r\n    <g id=\"xtick_2\">\r\n     <g id=\"line2d_3\">\r\n      <path clip-path=\"url(#p157dc70369)\" d=\"M 155.90375 261.676875 \r\nL 155.90375 28.396875 \r\n\" style=\"fill:none;stroke:#cbcbcb;\"/>\r\n     </g>\r\n     <g id=\"line2d_4\"/>\r\n     <g id=\"text_2\">\r\n      <!-- Feb -->\r\n      <g transform=\"translate(143.511562 275.814688)scale(0.14 -0.14)\">\r\n       <defs>\r\n        <path d=\"M 9.8125 72.90625 \r\nL 51.703125 72.90625 \r\nL 51.703125 64.59375 \r\nL 19.671875 64.59375 \r\nL 19.671875 43.109375 \r\nL 48.578125 43.109375 \r\nL 48.578125 34.8125 \r\nL 19.671875 34.8125 \r\nL 19.671875 0 \r\nL 9.8125 0 \r\nz\r\n\" id=\"DejaVuSans-70\"/>\r\n        <path d=\"M 56.203125 29.59375 \r\nL 56.203125 25.203125 \r\nL 14.890625 25.203125 \r\nQ 15.484375 15.921875 20.484375 11.0625 \r\nQ 25.484375 6.203125 34.421875 6.203125 \r\nQ 39.59375 6.203125 44.453125 7.46875 \r\nQ 49.3125 8.734375 54.109375 11.28125 \r\nL 54.109375 2.78125 \r\nQ 49.265625 0.734375 44.1875 -0.34375 \r\nQ 39.109375 -1.421875 33.890625 -1.421875 \r\nQ 20.796875 -1.421875 13.15625 6.1875 \r\nQ 5.515625 13.8125 5.515625 26.8125 \r\nQ 5.515625 40.234375 12.765625 48.109375 \r\nQ 20.015625 56 32.328125 56 \r\nQ 43.359375 56 49.78125 48.890625 \r\nQ 56.203125 41.796875 56.203125 29.59375 \r\nz\r\nM 47.21875 32.234375 \r\nQ 47.125 39.59375 43.09375 43.984375 \r\nQ 39.0625 48.390625 32.421875 48.390625 \r\nQ 24.90625 48.390625 20.390625 44.140625 \r\nQ 15.875 39.890625 15.1875 32.171875 \r\nz\r\n\" id=\"DejaVuSans-101\"/>\r\n        <path d=\"M 48.6875 27.296875 \r\nQ 48.6875 37.203125 44.609375 42.84375 \r\nQ 40.53125 48.484375 33.40625 48.484375 \r\nQ 26.265625 48.484375 22.1875 42.84375 \r\nQ 18.109375 37.203125 18.109375 27.296875 \r\nQ 18.109375 17.390625 22.1875 11.75 \r\nQ 26.265625 6.109375 33.40625 6.109375 \r\nQ 40.53125 6.109375 44.609375 11.75 \r\nQ 48.6875 17.390625 48.6875 27.296875 \r\nz\r\nM 18.109375 46.390625 \r\nQ 20.953125 51.265625 25.265625 53.625 \r\nQ 29.59375 56 35.59375 56 \r\nQ 45.5625 56 51.78125 48.09375 \r\nQ 58.015625 40.1875 58.015625 27.296875 \r\nQ 58.015625 14.40625 51.78125 6.484375 \r\nQ 45.5625 -1.421875 35.59375 -1.421875 \r\nQ 29.59375 -1.421875 25.265625 0.953125 \r\nQ 20.953125 3.328125 18.109375 8.203125 \r\nL 18.109375 0 \r\nL 9.078125 0 \r\nL 9.078125 75.984375 \r\nL 18.109375 75.984375 \r\nz\r\n\" id=\"DejaVuSans-98\"/>\r\n       </defs>\r\n       <use xlink:href=\"#DejaVuSans-70\"/>\r\n       <use x=\"52.019531\" xlink:href=\"#DejaVuSans-101\"/>\r\n       <use x=\"113.542969\" xlink:href=\"#DejaVuSans-98\"/>\r\n      </g>\r\n     </g>\r\n    </g>\r\n    <g id=\"xtick_3\">\r\n     <g id=\"line2d_5\">\r\n      <path clip-path=\"url(#p157dc70369)\" d=\"M 249.86375 261.676875 \r\nL 249.86375 28.396875 \r\n\" style=\"fill:none;stroke:#cbcbcb;\"/>\r\n     </g>\r\n     <g id=\"line2d_6\"/>\r\n     <g id=\"text_3\">\r\n      <!-- Mar -->\r\n      <g transform=\"translate(236.656719 275.814688)scale(0.14 -0.14)\">\r\n       <defs>\r\n        <path d=\"M 9.8125 72.90625 \r\nL 24.515625 72.90625 \r\nL 43.109375 23.296875 \r\nL 61.8125 72.90625 \r\nL 76.515625 72.90625 \r\nL 76.515625 0 \r\nL 66.890625 0 \r\nL 66.890625 64.015625 \r\nL 48.09375 14.015625 \r\nL 38.1875 14.015625 \r\nL 19.390625 64.015625 \r\nL 19.390625 0 \r\nL 9.8125 0 \r\nz\r\n\" id=\"DejaVuSans-77\"/>\r\n        <path d=\"M 41.109375 46.296875 \r\nQ 39.59375 47.171875 37.8125 47.578125 \r\nQ 36.03125 48 33.890625 48 \r\nQ 26.265625 48 22.1875 43.046875 \r\nQ 18.109375 38.09375 18.109375 28.8125 \r\nL 18.109375 0 \r\nL 9.078125 0 \r\nL 9.078125 54.6875 \r\nL 18.109375 54.6875 \r\nL 18.109375 46.1875 \r\nQ 20.953125 51.171875 25.484375 53.578125 \r\nQ 30.03125 56 36.53125 56 \r\nQ 37.453125 56 38.578125 55.875 \r\nQ 39.703125 55.765625 41.0625 55.515625 \r\nz\r\n\" id=\"DejaVuSans-114\"/>\r\n       </defs>\r\n       <use xlink:href=\"#DejaVuSans-77\"/>\r\n       <use x=\"86.279297\" xlink:href=\"#DejaVuSans-97\"/>\r\n       <use x=\"147.558594\" xlink:href=\"#DejaVuSans-114\"/>\r\n      </g>\r\n     </g>\r\n    </g>\r\n    <g id=\"xtick_4\">\r\n     <g id=\"line2d_7\">\r\n      <path clip-path=\"url(#p157dc70369)\" d=\"M 367.31375 261.676875 \r\nL 367.31375 28.396875 \r\n\" style=\"fill:none;stroke:#cbcbcb;\"/>\r\n     </g>\r\n     <g id=\"line2d_8\"/>\r\n     <g id=\"text_4\">\r\n      <!-- Apr -->\r\n      <g transform=\"translate(355.20375 275.814688)scale(0.14 -0.14)\">\r\n       <defs>\r\n        <path d=\"M 34.1875 63.1875 \r\nL 20.796875 26.90625 \r\nL 47.609375 26.90625 \r\nz\r\nM 28.609375 72.90625 \r\nL 39.796875 72.90625 \r\nL 67.578125 0 \r\nL 57.328125 0 \r\nL 50.6875 18.703125 \r\nL 17.828125 18.703125 \r\nL 11.1875 0 \r\nL 0.78125 0 \r\nz\r\n\" id=\"DejaVuSans-65\"/>\r\n        <path d=\"M 18.109375 8.203125 \r\nL 18.109375 -20.796875 \r\nL 9.078125 -20.796875 \r\nL 9.078125 54.6875 \r\nL 18.109375 54.6875 \r\nL 18.109375 46.390625 \r\nQ 20.953125 51.265625 25.265625 53.625 \r\nQ 29.59375 56 35.59375 56 \r\nQ 45.5625 56 51.78125 48.09375 \r\nQ 58.015625 40.1875 58.015625 27.296875 \r\nQ 58.015625 14.40625 51.78125 6.484375 \r\nQ 45.5625 -1.421875 35.59375 -1.421875 \r\nQ 29.59375 -1.421875 25.265625 0.953125 \r\nQ 20.953125 3.328125 18.109375 8.203125 \r\nz\r\nM 48.6875 27.296875 \r\nQ 48.6875 37.203125 44.609375 42.84375 \r\nQ 40.53125 48.484375 33.40625 48.484375 \r\nQ 26.265625 48.484375 22.1875 42.84375 \r\nQ 18.109375 37.203125 18.109375 27.296875 \r\nQ 18.109375 17.390625 22.1875 11.75 \r\nQ 26.265625 6.109375 33.40625 6.109375 \r\nQ 40.53125 6.109375 44.609375 11.75 \r\nQ 48.6875 17.390625 48.6875 27.296875 \r\nz\r\n\" id=\"DejaVuSans-112\"/>\r\n       </defs>\r\n       <use xlink:href=\"#DejaVuSans-65\"/>\r\n       <use x=\"68.408203\" xlink:href=\"#DejaVuSans-112\"/>\r\n       <use x=\"131.884766\" xlink:href=\"#DejaVuSans-114\"/>\r\n      </g>\r\n     </g>\r\n    </g>\r\n    <g id=\"xtick_5\">\r\n     <g id=\"line2d_9\">\r\n      <path clip-path=\"url(#p157dc70369)\" d=\"M 437.78375 261.676875 \r\nL 437.78375 28.396875 \r\n\" style=\"fill:none;stroke:#cbcbcb;\"/>\r\n     </g>\r\n     <g id=\"line2d_10\"/>\r\n    </g>\r\n    <g id=\"xtick_6\">\r\n     <g id=\"line2d_11\"/>\r\n    </g>\r\n    <g id=\"xtick_7\">\r\n     <g id=\"line2d_12\"/>\r\n    </g>\r\n    <g id=\"xtick_8\">\r\n     <g id=\"line2d_13\"/>\r\n    </g>\r\n    <g id=\"xtick_9\">\r\n     <g id=\"line2d_14\"/>\r\n    </g>\r\n    <g id=\"xtick_10\">\r\n     <g id=\"line2d_15\"/>\r\n    </g>\r\n    <g id=\"xtick_11\">\r\n     <g id=\"line2d_16\"/>\r\n    </g>\r\n    <g id=\"xtick_12\">\r\n     <g id=\"line2d_17\"/>\r\n    </g>\r\n    <g id=\"xtick_13\">\r\n     <g id=\"line2d_18\"/>\r\n    </g>\r\n    <g id=\"xtick_14\">\r\n     <g id=\"line2d_19\"/>\r\n    </g>\r\n    <g id=\"xtick_15\">\r\n     <g id=\"line2d_20\"/>\r\n    </g>\r\n    <g id=\"xtick_16\">\r\n     <g id=\"line2d_21\"/>\r\n    </g>\r\n    <g id=\"xtick_17\">\r\n     <g id=\"line2d_22\"/>\r\n    </g>\r\n   </g>\r\n   <g id=\"matplotlib.axis_2\">\r\n    <g id=\"ytick_1\">\r\n     <g id=\"line2d_23\">\r\n      <path clip-path=\"url(#p157dc70369)\" d=\"M 61.94375 257.04288 \r\nL 437.78375 257.04288 \r\n\" style=\"fill:none;stroke:#cbcbcb;\"/>\r\n     </g>\r\n     <g id=\"line2d_24\"/>\r\n     <g id=\"text_5\">\r\n      <!-- 0 -->\r\n      <g transform=\"translate(49.53625 262.361786)scale(0.14 -0.14)\">\r\n       <use xlink:href=\"#DejaVuSans-48\"/>\r\n      </g>\r\n     </g>\r\n    </g>\r\n    <g id=\"ytick_2\">\r\n     <g id=\"line2d_25\">\r\n      <path clip-path=\"url(#p157dc70369)\" d=\"M 61.94375 212.921361 \r\nL 437.78375 212.921361 \r\n\" style=\"fill:none;stroke:#cbcbcb;\"/>\r\n     </g>\r\n     <g id=\"line2d_26\"/>\r\n     <g id=\"text_6\">\r\n      <!-- 500 -->\r\n      <g transform=\"translate(31.72125 218.240268)scale(0.14 -0.14)\">\r\n       <defs>\r\n        <path d=\"M 10.796875 72.90625 \r\nL 49.515625 72.90625 \r\nL 49.515625 64.59375 \r\nL 19.828125 64.59375 \r\nL 19.828125 46.734375 \r\nQ 21.96875 47.46875 24.109375 47.828125 \r\nQ 26.265625 48.1875 28.421875 48.1875 \r\nQ 40.625 48.1875 47.75 41.5 \r\nQ 54.890625 34.8125 54.890625 23.390625 \r\nQ 54.890625 11.625 47.5625 5.09375 \r\nQ 40.234375 -1.421875 26.90625 -1.421875 \r\nQ 22.3125 -1.421875 17.546875 -0.640625 \r\nQ 12.796875 0.140625 7.71875 1.703125 \r\nL 7.71875 11.625 \r\nQ 12.109375 9.234375 16.796875 8.0625 \r\nQ 21.484375 6.890625 26.703125 6.890625 \r\nQ 35.15625 6.890625 40.078125 11.328125 \r\nQ 45.015625 15.765625 45.015625 23.390625 \r\nQ 45.015625 31 40.078125 35.4375 \r\nQ 35.15625 39.890625 26.703125 39.890625 \r\nQ 22.75 39.890625 18.8125 39.015625 \r\nQ 14.890625 38.140625 10.796875 36.28125 \r\nz\r\n\" id=\"DejaVuSans-53\"/>\r\n       </defs>\r\n       <use xlink:href=\"#DejaVuSans-53\"/>\r\n       <use x=\"63.623047\" xlink:href=\"#DejaVuSans-48\"/>\r\n       <use x=\"127.246094\" xlink:href=\"#DejaVuSans-48\"/>\r\n      </g>\r\n     </g>\r\n    </g>\r\n    <g id=\"ytick_3\">\r\n     <g id=\"line2d_27\">\r\n      <path clip-path=\"url(#p157dc70369)\" d=\"M 61.94375 168.799843 \r\nL 437.78375 168.799843 \r\n\" style=\"fill:none;stroke:#cbcbcb;\"/>\r\n     </g>\r\n     <g id=\"line2d_28\"/>\r\n     <g id=\"text_7\">\r\n      <!-- 1000 -->\r\n      <g transform=\"translate(22.81375 174.118749)scale(0.14 -0.14)\">\r\n       <use xlink:href=\"#DejaVuSans-49\"/>\r\n       <use x=\"63.623047\" xlink:href=\"#DejaVuSans-48\"/>\r\n       <use x=\"127.246094\" xlink:href=\"#DejaVuSans-48\"/>\r\n       <use x=\"190.869141\" xlink:href=\"#DejaVuSans-48\"/>\r\n      </g>\r\n     </g>\r\n    </g>\r\n    <g id=\"ytick_4\">\r\n     <g id=\"line2d_29\">\r\n      <path clip-path=\"url(#p157dc70369)\" d=\"M 61.94375 124.678324 \r\nL 437.78375 124.678324 \r\n\" style=\"fill:none;stroke:#cbcbcb;\"/>\r\n     </g>\r\n     <g id=\"line2d_30\"/>\r\n     <g id=\"text_8\">\r\n      <!-- 1500 -->\r\n      <g transform=\"translate(22.81375 129.99723)scale(0.14 -0.14)\">\r\n       <use xlink:href=\"#DejaVuSans-49\"/>\r\n       <use x=\"63.623047\" xlink:href=\"#DejaVuSans-53\"/>\r\n       <use x=\"127.246094\" xlink:href=\"#DejaVuSans-48\"/>\r\n       <use x=\"190.869141\" xlink:href=\"#DejaVuSans-48\"/>\r\n      </g>\r\n     </g>\r\n    </g>\r\n    <g id=\"ytick_5\">\r\n     <g id=\"line2d_31\">\r\n      <path clip-path=\"url(#p157dc70369)\" d=\"M 61.94375 80.556805 \r\nL 437.78375 80.556805 \r\n\" style=\"fill:none;stroke:#cbcbcb;\"/>\r\n     </g>\r\n     <g id=\"line2d_32\"/>\r\n     <g id=\"text_9\">\r\n      <!-- 2000 -->\r\n      <g transform=\"translate(22.81375 85.875711)scale(0.14 -0.14)\">\r\n       <use xlink:href=\"#DejaVuSans-50\"/>\r\n       <use x=\"63.623047\" xlink:href=\"#DejaVuSans-48\"/>\r\n       <use x=\"127.246094\" xlink:href=\"#DejaVuSans-48\"/>\r\n       <use x=\"190.869141\" xlink:href=\"#DejaVuSans-48\"/>\r\n      </g>\r\n     </g>\r\n    </g>\r\n    <g id=\"ytick_6\">\r\n     <g id=\"line2d_33\">\r\n      <path clip-path=\"url(#p157dc70369)\" d=\"M 61.94375 36.435286 \r\nL 437.78375 36.435286 \r\n\" style=\"fill:none;stroke:#cbcbcb;\"/>\r\n     </g>\r\n     <g id=\"line2d_34\"/>\r\n     <g id=\"text_10\">\r\n      <!-- 2500 -->\r\n      <g transform=\"translate(22.81375 41.754193)scale(0.14 -0.14)\">\r\n       <use xlink:href=\"#DejaVuSans-50\"/>\r\n       <use x=\"63.623047\" xlink:href=\"#DejaVuSans-53\"/>\r\n       <use x=\"127.246094\" xlink:href=\"#DejaVuSans-48\"/>\r\n       <use x=\"190.869141\" xlink:href=\"#DejaVuSans-48\"/>\r\n      </g>\r\n     </g>\r\n    </g>\r\n    <g id=\"text_11\">\r\n     <!-- Fare ($USD) -->\r\n     <g transform=\"translate(16.318125 180.867188)rotate(-90)scale(0.12 -0.12)\">\r\n      <defs>\r\n       <path id=\"DejaVuSans-32\"/>\r\n       <path d=\"M 31 75.875 \r\nQ 24.46875 64.65625 21.28125 53.65625 \r\nQ 18.109375 42.671875 18.109375 31.390625 \r\nQ 18.109375 20.125 21.3125 9.0625 \r\nQ 24.515625 -2 31 -13.1875 \r\nL 23.1875 -13.1875 \r\nQ 15.875 -1.703125 12.234375 9.375 \r\nQ 8.59375 20.453125 8.59375 31.390625 \r\nQ 8.59375 42.28125 12.203125 53.3125 \r\nQ 15.828125 64.359375 23.1875 75.875 \r\nz\r\n\" id=\"DejaVuSans-40\"/>\r\n       <path d=\"M 33.796875 -14.703125 \r\nL 28.90625 -14.703125 \r\nL 28.859375 0 \r\nQ 23.734375 0.09375 18.609375 1.1875 \r\nQ 13.484375 2.296875 8.296875 4.5 \r\nL 8.296875 13.28125 \r\nQ 13.28125 10.15625 18.375 8.5625 \r\nQ 23.484375 6.984375 28.90625 6.9375 \r\nL 28.90625 29.203125 \r\nQ 18.109375 30.953125 13.203125 35.15625 \r\nQ 8.296875 39.359375 8.296875 46.6875 \r\nQ 8.296875 54.640625 13.625 59.21875 \r\nQ 18.953125 63.8125 28.90625 64.5 \r\nL 28.90625 75.984375 \r\nL 33.796875 75.984375 \r\nL 33.796875 64.65625 \r\nQ 38.328125 64.453125 42.578125 63.6875 \r\nQ 46.828125 62.9375 50.875 61.625 \r\nL 50.875 53.078125 \r\nQ 46.828125 55.125 42.546875 56.25 \r\nQ 38.28125 57.375 33.796875 57.5625 \r\nL 33.796875 36.71875 \r\nQ 44.875 35.015625 50.09375 30.609375 \r\nQ 55.328125 26.21875 55.328125 18.609375 \r\nQ 55.328125 10.359375 49.78125 5.59375 \r\nQ 44.234375 0.828125 33.796875 0.09375 \r\nz\r\nM 28.90625 37.59375 \r\nL 28.90625 57.625 \r\nQ 23.25 56.984375 20.265625 54.390625 \r\nQ 17.28125 51.8125 17.28125 47.515625 \r\nQ 17.28125 43.3125 20.03125 40.96875 \r\nQ 22.796875 38.625 28.90625 37.59375 \r\nz\r\nM 33.796875 28.21875 \r\nL 33.796875 7.078125 \r\nQ 39.984375 7.90625 43.140625 10.59375 \r\nQ 46.296875 13.28125 46.296875 17.671875 \r\nQ 46.296875 21.96875 43.28125 24.5 \r\nQ 40.28125 27.046875 33.796875 28.21875 \r\nz\r\n\" id=\"DejaVuSans-36\"/>\r\n       <path d=\"M 8.6875 72.90625 \r\nL 18.609375 72.90625 \r\nL 18.609375 28.609375 \r\nQ 18.609375 16.890625 22.84375 11.734375 \r\nQ 27.09375 6.59375 36.625 6.59375 \r\nQ 46.09375 6.59375 50.34375 11.734375 \r\nQ 54.59375 16.890625 54.59375 28.609375 \r\nL 54.59375 72.90625 \r\nL 64.5 72.90625 \r\nL 64.5 27.390625 \r\nQ 64.5 13.140625 57.4375 5.859375 \r\nQ 50.390625 -1.421875 36.625 -1.421875 \r\nQ 22.796875 -1.421875 15.734375 5.859375 \r\nQ 8.6875 13.140625 8.6875 27.390625 \r\nz\r\n\" id=\"DejaVuSans-85\"/>\r\n       <path d=\"M 53.515625 70.515625 \r\nL 53.515625 60.890625 \r\nQ 47.90625 63.578125 42.921875 64.890625 \r\nQ 37.9375 66.21875 33.296875 66.21875 \r\nQ 25.25 66.21875 20.875 63.09375 \r\nQ 16.5 59.96875 16.5 54.203125 \r\nQ 16.5 49.359375 19.40625 46.890625 \r\nQ 22.3125 44.4375 30.421875 42.921875 \r\nL 36.375 41.703125 \r\nQ 47.40625 39.59375 52.65625 34.296875 \r\nQ 57.90625 29 57.90625 20.125 \r\nQ 57.90625 9.515625 50.796875 4.046875 \r\nQ 43.703125 -1.421875 29.984375 -1.421875 \r\nQ 24.8125 -1.421875 18.96875 -0.25 \r\nQ 13.140625 0.921875 6.890625 3.21875 \r\nL 6.890625 13.375 \r\nQ 12.890625 10.015625 18.65625 8.296875 \r\nQ 24.421875 6.59375 29.984375 6.59375 \r\nQ 38.421875 6.59375 43.015625 9.90625 \r\nQ 47.609375 13.234375 47.609375 19.390625 \r\nQ 47.609375 24.75 44.3125 27.78125 \r\nQ 41.015625 30.8125 33.5 32.328125 \r\nL 27.484375 33.5 \r\nQ 16.453125 35.6875 11.515625 40.375 \r\nQ 6.59375 45.0625 6.59375 53.421875 \r\nQ 6.59375 63.09375 13.40625 68.65625 \r\nQ 20.21875 74.21875 32.171875 74.21875 \r\nQ 37.3125 74.21875 42.625 73.28125 \r\nQ 47.953125 72.359375 53.515625 70.515625 \r\nz\r\n\" id=\"DejaVuSans-83\"/>\r\n       <path d=\"M 19.671875 64.796875 \r\nL 19.671875 8.109375 \r\nL 31.59375 8.109375 \r\nQ 46.6875 8.109375 53.6875 14.9375 \r\nQ 60.6875 21.78125 60.6875 36.53125 \r\nQ 60.6875 51.171875 53.6875 57.984375 \r\nQ 46.6875 64.796875 31.59375 64.796875 \r\nz\r\nM 9.8125 72.90625 \r\nL 30.078125 72.90625 \r\nQ 51.265625 72.90625 61.171875 64.09375 \r\nQ 71.09375 55.28125 71.09375 36.53125 \r\nQ 71.09375 17.671875 61.125 8.828125 \r\nQ 51.171875 0 30.078125 0 \r\nL 9.8125 0 \r\nz\r\n\" id=\"DejaVuSans-68\"/>\r\n       <path d=\"M 8.015625 75.875 \r\nL 15.828125 75.875 \r\nQ 23.140625 64.359375 26.78125 53.3125 \r\nQ 30.421875 42.28125 30.421875 31.390625 \r\nQ 30.421875 20.453125 26.78125 9.375 \r\nQ 23.140625 -1.703125 15.828125 -13.1875 \r\nL 8.015625 -13.1875 \r\nQ 14.5 -2 17.703125 9.0625 \r\nQ 20.90625 20.125 20.90625 31.390625 \r\nQ 20.90625 42.671875 17.703125 53.65625 \r\nQ 14.5 64.65625 8.015625 75.875 \r\nz\r\n\" id=\"DejaVuSans-41\"/>\r\n      </defs>\r\n      <use xlink:href=\"#DejaVuSans-70\"/>\r\n      <use x=\"48.394531\" xlink:href=\"#DejaVuSans-97\"/>\r\n      <use x=\"109.673828\" xlink:href=\"#DejaVuSans-114\"/>\r\n      <use x=\"148.537109\" xlink:href=\"#DejaVuSans-101\"/>\r\n      <use x=\"210.060547\" xlink:href=\"#DejaVuSans-32\"/>\r\n      <use x=\"241.847656\" xlink:href=\"#DejaVuSans-40\"/>\r\n      <use x=\"280.861328\" xlink:href=\"#DejaVuSans-36\"/>\r\n      <use x=\"344.484375\" xlink:href=\"#DejaVuSans-85\"/>\r\n      <use x=\"417.677734\" xlink:href=\"#DejaVuSans-83\"/>\r\n      <use x=\"481.154297\" xlink:href=\"#DejaVuSans-68\"/>\r\n      <use x=\"558.15625\" xlink:href=\"#DejaVuSans-41\"/>\r\n     </g>\r\n    </g>\r\n   </g>\r\n   <g id=\"line2d_35\">\r\n    <path clip-path=\"url(#p157dc70369)\" d=\"M 61.94375 240.460249 \r\nL 85.43375 251.073239 \r\nL 108.92375 230.040511 \r\nL 132.41375 241.186489 \r\nL 155.90375 227.650889 \r\nL 179.39375 246.824336 \r\nL 202.88375 248.587432 \r\nL 226.37375 220.063753 \r\nL 249.86375 241.587995 \r\nL 273.35375 230.222291 \r\nL 296.84375 242.62485 \r\nL 320.33375 240.297881 \r\nL 343.82375 239.445454 \r\nL 367.31375 212.81194 \r\nL 390.80375 233.235791 \r\nL 414.29375 238.146516 \r\nL 437.78375 240.113453 \r\n\" style=\"fill:none;stroke:#008fd5;stroke-width:4;\"/>\r\n   </g>\r\n   <g id=\"line2d_36\">\r\n    <path clip-path=\"url(#p157dc70369)\" d=\"M 61.94375 193.366704 \r\nL 85.43375 159.522852 \r\nL 108.92375 149.545212 \r\nL 132.41375 150.861798 \r\nL 155.90375 165.023923 \r\nL 179.39375 171.064159 \r\nL 202.88375 164.784784 \r\nL 226.37375 132.378411 \r\nL 249.86375 181.289762 \r\nL 273.35375 175.394245 \r\nL 296.84375 177.07704 \r\nL 320.33375 158.016543 \r\nL 343.82375 164.823611 \r\nL 367.31375 167.852995 \r\nL 390.80375 187.787979 \r\nL 414.29375 155.627804 \r\nL 437.78375 137.230896 \r\n\" style=\"fill:none;stroke:#fc4f30;stroke-width:4;\"/>\r\n   </g>\r\n   <g id=\"line2d_37\">\r\n    <path clip-path=\"url(#p157dc70369)\" d=\"M 61.94375 110.411189 \r\nL 85.43375 76.106709 \r\nL 108.92375 85.937865 \r\nL 132.41375 69.128449 \r\nL 155.90375 72.884955 \r\nL 179.39375 66.204957 \r\nL 202.88375 59.813514 \r\nL 226.37375 39.409959 \r\nL 249.86375 61.302174 \r\nL 273.35375 39.000511 \r\nL 296.84375 76.637049 \r\nL 320.33375 48.050717 \r\nL 343.82375 85.606954 \r\nL 367.31375 49.080514 \r\nL 390.80375 46.078485 \r\nL 414.29375 53.74857 \r\nL 437.78375 59.529372 \r\n\" style=\"fill:none;stroke:#e5ae38;stroke-width:4;\"/>\r\n   </g>\r\n   <g id=\"patch_3\">\r\n    <path d=\"M 61.94375 261.676875 \r\nL 61.94375 28.396875 \r\n\" style=\"fill:none;stroke:#f0f0f0;stroke-linecap:square;stroke-linejoin:miter;stroke-width:3;\"/>\r\n   </g>\r\n   <g id=\"patch_4\">\r\n    <path d=\"M 437.78375 261.676875 \r\nL 437.78375 28.396875 \r\n\" style=\"fill:none;stroke:#f0f0f0;stroke-linecap:square;stroke-linejoin:miter;stroke-width:3;\"/>\r\n   </g>\r\n   <g id=\"patch_5\">\r\n    <path d=\"M 61.94375 261.676875 \r\nL 437.78375 261.676875 \r\n\" style=\"fill:none;stroke:#f0f0f0;stroke-linecap:square;stroke-linejoin:miter;stroke-width:3;\"/>\r\n   </g>\r\n   <g id=\"patch_6\">\r\n    <path d=\"M 61.94375 28.396875 \r\nL 437.78375 28.396875 \r\n\" style=\"fill:none;stroke:#f0f0f0;stroke-linecap:square;stroke-linejoin:miter;stroke-width:3;\"/>\r\n   </g>\r\n   <g id=\"text_12\">\r\n    <!-- Total Fare by City Type -->\r\n    <g transform=\"translate(137.959062 22.396875)scale(0.2 -0.2)\">\r\n     <defs>\r\n      <path d=\"M -0.296875 72.90625 \r\nL 61.375 72.90625 \r\nL 61.375 64.59375 \r\nL 35.5 64.59375 \r\nL 35.5 0 \r\nL 25.59375 0 \r\nL 25.59375 64.59375 \r\nL -0.296875 64.59375 \r\nz\r\n\" id=\"DejaVuSans-84\"/>\r\n      <path d=\"M 30.609375 48.390625 \r\nQ 23.390625 48.390625 19.1875 42.75 \r\nQ 14.984375 37.109375 14.984375 27.296875 \r\nQ 14.984375 17.484375 19.15625 11.84375 \r\nQ 23.34375 6.203125 30.609375 6.203125 \r\nQ 37.796875 6.203125 41.984375 11.859375 \r\nQ 46.1875 17.53125 46.1875 27.296875 \r\nQ 46.1875 37.015625 41.984375 42.703125 \r\nQ 37.796875 48.390625 30.609375 48.390625 \r\nz\r\nM 30.609375 56 \r\nQ 42.328125 56 49.015625 48.375 \r\nQ 55.71875 40.765625 55.71875 27.296875 \r\nQ 55.71875 13.875 49.015625 6.21875 \r\nQ 42.328125 -1.421875 30.609375 -1.421875 \r\nQ 18.84375 -1.421875 12.171875 6.21875 \r\nQ 5.515625 13.875 5.515625 27.296875 \r\nQ 5.515625 40.765625 12.171875 48.375 \r\nQ 18.84375 56 30.609375 56 \r\nz\r\n\" id=\"DejaVuSans-111\"/>\r\n      <path d=\"M 18.3125 70.21875 \r\nL 18.3125 54.6875 \r\nL 36.8125 54.6875 \r\nL 36.8125 47.703125 \r\nL 18.3125 47.703125 \r\nL 18.3125 18.015625 \r\nQ 18.3125 11.328125 20.140625 9.421875 \r\nQ 21.96875 7.515625 27.59375 7.515625 \r\nL 36.8125 7.515625 \r\nL 36.8125 0 \r\nL 27.59375 0 \r\nQ 17.1875 0 13.234375 3.875 \r\nQ 9.28125 7.765625 9.28125 18.015625 \r\nL 9.28125 47.703125 \r\nL 2.6875 47.703125 \r\nL 2.6875 54.6875 \r\nL 9.28125 54.6875 \r\nL 9.28125 70.21875 \r\nz\r\n\" id=\"DejaVuSans-116\"/>\r\n      <path d=\"M 9.421875 75.984375 \r\nL 18.40625 75.984375 \r\nL 18.40625 0 \r\nL 9.421875 0 \r\nz\r\n\" id=\"DejaVuSans-108\"/>\r\n      <path d=\"M 32.171875 -5.078125 \r\nQ 28.375 -14.84375 24.75 -17.8125 \r\nQ 21.140625 -20.796875 15.09375 -20.796875 \r\nL 7.90625 -20.796875 \r\nL 7.90625 -13.28125 \r\nL 13.1875 -13.28125 \r\nQ 16.890625 -13.28125 18.9375 -11.515625 \r\nQ 21 -9.765625 23.484375 -3.21875 \r\nL 25.09375 0.875 \r\nL 2.984375 54.6875 \r\nL 12.5 54.6875 \r\nL 29.59375 11.921875 \r\nL 46.6875 54.6875 \r\nL 56.203125 54.6875 \r\nz\r\n\" id=\"DejaVuSans-121\"/>\r\n      <path d=\"M 64.40625 67.28125 \r\nL 64.40625 56.890625 \r\nQ 59.421875 61.53125 53.78125 63.8125 \r\nQ 48.140625 66.109375 41.796875 66.109375 \r\nQ 29.296875 66.109375 22.65625 58.46875 \r\nQ 16.015625 50.828125 16.015625 36.375 \r\nQ 16.015625 21.96875 22.65625 14.328125 \r\nQ 29.296875 6.6875 41.796875 6.6875 \r\nQ 48.140625 6.6875 53.78125 8.984375 \r\nQ 59.421875 11.28125 64.40625 15.921875 \r\nL 64.40625 5.609375 \r\nQ 59.234375 2.09375 53.4375 0.328125 \r\nQ 47.65625 -1.421875 41.21875 -1.421875 \r\nQ 24.65625 -1.421875 15.125 8.703125 \r\nQ 5.609375 18.84375 5.609375 36.375 \r\nQ 5.609375 53.953125 15.125 64.078125 \r\nQ 24.65625 74.21875 41.21875 74.21875 \r\nQ 47.75 74.21875 53.53125 72.484375 \r\nQ 59.328125 70.75 64.40625 67.28125 \r\nz\r\n\" id=\"DejaVuSans-67\"/>\r\n      <path d=\"M 9.421875 54.6875 \r\nL 18.40625 54.6875 \r\nL 18.40625 0 \r\nL 9.421875 0 \r\nz\r\nM 9.421875 75.984375 \r\nL 18.40625 75.984375 \r\nL 18.40625 64.59375 \r\nL 9.421875 64.59375 \r\nz\r\n\" id=\"DejaVuSans-105\"/>\r\n     </defs>\r\n     <use xlink:href=\"#DejaVuSans-84\"/>\r\n     <use x=\"44.083984\" xlink:href=\"#DejaVuSans-111\"/>\r\n     <use x=\"105.265625\" xlink:href=\"#DejaVuSans-116\"/>\r\n     <use x=\"144.474609\" xlink:href=\"#DejaVuSans-97\"/>\r\n     <use x=\"205.753906\" xlink:href=\"#DejaVuSans-108\"/>\r\n     <use x=\"233.537109\" xlink:href=\"#DejaVuSans-32\"/>\r\n     <use x=\"265.324219\" xlink:href=\"#DejaVuSans-70\"/>\r\n     <use x=\"313.71875\" xlink:href=\"#DejaVuSans-97\"/>\r\n     <use x=\"374.998047\" xlink:href=\"#DejaVuSans-114\"/>\r\n     <use x=\"413.861328\" xlink:href=\"#DejaVuSans-101\"/>\r\n     <use x=\"475.384766\" xlink:href=\"#DejaVuSans-32\"/>\r\n     <use x=\"507.171875\" xlink:href=\"#DejaVuSans-98\"/>\r\n     <use x=\"570.648438\" xlink:href=\"#DejaVuSans-121\"/>\r\n     <use x=\"629.828125\" xlink:href=\"#DejaVuSans-32\"/>\r\n     <use x=\"661.615234\" xlink:href=\"#DejaVuSans-67\"/>\r\n     <use x=\"731.439453\" xlink:href=\"#DejaVuSans-105\"/>\r\n     <use x=\"759.222656\" xlink:href=\"#DejaVuSans-116\"/>\r\n     <use x=\"798.431641\" xlink:href=\"#DejaVuSans-121\"/>\r\n     <use x=\"857.611328\" xlink:href=\"#DejaVuSans-32\"/>\r\n     <use x=\"889.398438\" xlink:href=\"#DejaVuSans-84\"/>\r\n     <use x=\"934.857422\" xlink:href=\"#DejaVuSans-121\"/>\r\n     <use x=\"994.037109\" xlink:href=\"#DejaVuSans-112\"/>\r\n     <use x=\"1057.513672\" xlink:href=\"#DejaVuSans-101\"/>\r\n    </g>\r\n   </g>\r\n   <g id=\"legend_1\">\r\n    <g id=\"patch_7\">\r\n     <path d=\"M 315.568125 121.794375 \r\nL 427.98375 121.794375 \r\nQ 430.78375 121.794375 430.78375 118.994375 \r\nL 430.78375 38.196875 \r\nQ 430.78375 35.396875 427.98375 35.396875 \r\nL 315.568125 35.396875 \r\nQ 312.768125 35.396875 312.768125 38.196875 \r\nL 312.768125 118.994375 \r\nQ 312.768125 121.794375 315.568125 121.794375 \r\nz\r\n\" style=\"fill:#f0f0f0;opacity:0.8;stroke:#cccccc;stroke-linejoin:miter;stroke-width:0.5;\"/>\r\n    </g>\r\n    <g id=\"text_13\">\r\n     <!-- type -->\r\n     <g transform=\"translate(356.1375 51.634687)scale(0.14 -0.14)\">\r\n      <use xlink:href=\"#DejaVuSans-116\"/>\r\n      <use x=\"39.208984\" xlink:href=\"#DejaVuSans-121\"/>\r\n      <use x=\"98.388672\" xlink:href=\"#DejaVuSans-112\"/>\r\n      <use x=\"161.865234\" xlink:href=\"#DejaVuSans-101\"/>\r\n     </g>\r\n    </g>\r\n    <g id=\"line2d_38\">\r\n     <path d=\"M 318.368125 67.284062 \r\nL 346.368125 67.284062 \r\n\" style=\"fill:none;stroke:#008fd5;stroke-width:4;\"/>\r\n    </g>\r\n    <g id=\"line2d_39\"/>\r\n    <g id=\"text_14\">\r\n     <!-- Rural -->\r\n     <g transform=\"translate(357.568125 72.184062)scale(0.14 -0.14)\">\r\n      <defs>\r\n       <path d=\"M 44.390625 34.1875 \r\nQ 47.5625 33.109375 50.5625 29.59375 \r\nQ 53.5625 26.078125 56.59375 19.921875 \r\nL 66.609375 0 \r\nL 56 0 \r\nL 46.6875 18.703125 \r\nQ 43.0625 26.03125 39.671875 28.421875 \r\nQ 36.28125 30.8125 30.421875 30.8125 \r\nL 19.671875 30.8125 \r\nL 19.671875 0 \r\nL 9.8125 0 \r\nL 9.8125 72.90625 \r\nL 32.078125 72.90625 \r\nQ 44.578125 72.90625 50.734375 67.671875 \r\nQ 56.890625 62.453125 56.890625 51.90625 \r\nQ 56.890625 45.015625 53.6875 40.46875 \r\nQ 50.484375 35.9375 44.390625 34.1875 \r\nz\r\nM 19.671875 64.796875 \r\nL 19.671875 38.921875 \r\nL 32.078125 38.921875 \r\nQ 39.203125 38.921875 42.84375 42.21875 \r\nQ 46.484375 45.515625 46.484375 51.90625 \r\nQ 46.484375 58.296875 42.84375 61.546875 \r\nQ 39.203125 64.796875 32.078125 64.796875 \r\nz\r\n\" id=\"DejaVuSans-82\"/>\r\n       <path d=\"M 8.5 21.578125 \r\nL 8.5 54.6875 \r\nL 17.484375 54.6875 \r\nL 17.484375 21.921875 \r\nQ 17.484375 14.15625 20.5 10.265625 \r\nQ 23.53125 6.390625 29.59375 6.390625 \r\nQ 36.859375 6.390625 41.078125 11.03125 \r\nQ 45.3125 15.671875 45.3125 23.6875 \r\nL 45.3125 54.6875 \r\nL 54.296875 54.6875 \r\nL 54.296875 0 \r\nL 45.3125 0 \r\nL 45.3125 8.40625 \r\nQ 42.046875 3.421875 37.71875 1 \r\nQ 33.40625 -1.421875 27.6875 -1.421875 \r\nQ 18.265625 -1.421875 13.375 4.4375 \r\nQ 8.5 10.296875 8.5 21.578125 \r\nz\r\nM 31.109375 56 \r\nz\r\n\" id=\"DejaVuSans-117\"/>\r\n      </defs>\r\n      <use xlink:href=\"#DejaVuSans-82\"/>\r\n      <use x=\"64.982422\" xlink:href=\"#DejaVuSans-117\"/>\r\n      <use x=\"128.361328\" xlink:href=\"#DejaVuSans-114\"/>\r\n      <use x=\"169.474609\" xlink:href=\"#DejaVuSans-97\"/>\r\n      <use x=\"230.753906\" xlink:href=\"#DejaVuSans-108\"/>\r\n     </g>\r\n    </g>\r\n    <g id=\"line2d_40\">\r\n     <path d=\"M 318.368125 87.833437 \r\nL 346.368125 87.833437 \r\n\" style=\"fill:none;stroke:#fc4f30;stroke-width:4;\"/>\r\n    </g>\r\n    <g id=\"line2d_41\"/>\r\n    <g id=\"text_15\">\r\n     <!-- Suburban -->\r\n     <g transform=\"translate(357.568125 92.733437)scale(0.14 -0.14)\">\r\n      <use xlink:href=\"#DejaVuSans-83\"/>\r\n      <use x=\"63.476562\" xlink:href=\"#DejaVuSans-117\"/>\r\n      <use x=\"126.855469\" xlink:href=\"#DejaVuSans-98\"/>\r\n      <use x=\"190.332031\" xlink:href=\"#DejaVuSans-117\"/>\r\n      <use x=\"253.710938\" xlink:href=\"#DejaVuSans-114\"/>\r\n      <use x=\"294.824219\" xlink:href=\"#DejaVuSans-98\"/>\r\n      <use x=\"358.300781\" xlink:href=\"#DejaVuSans-97\"/>\r\n      <use x=\"419.580078\" xlink:href=\"#DejaVuSans-110\"/>\r\n     </g>\r\n    </g>\r\n    <g id=\"line2d_42\">\r\n     <path d=\"M 318.368125 108.382812 \r\nL 346.368125 108.382812 \r\n\" style=\"fill:none;stroke:#e5ae38;stroke-width:4;\"/>\r\n    </g>\r\n    <g id=\"line2d_43\"/>\r\n    <g id=\"text_16\">\r\n     <!-- Urban -->\r\n     <g transform=\"translate(357.568125 113.282812)scale(0.14 -0.14)\">\r\n      <use xlink:href=\"#DejaVuSans-85\"/>\r\n      <use x=\"73.193359\" xlink:href=\"#DejaVuSans-114\"/>\r\n      <use x=\"114.306641\" xlink:href=\"#DejaVuSans-98\"/>\r\n      <use x=\"177.783203\" xlink:href=\"#DejaVuSans-97\"/>\r\n      <use x=\"239.0625\" xlink:href=\"#DejaVuSans-110\"/>\r\n     </g>\r\n    </g>\r\n   </g>\r\n  </g>\r\n </g>\r\n <defs>\r\n  <clipPath id=\"p157dc70369\">\r\n   <rect height=\"233.28\" width=\"375.84\" x=\"61.94375\" y=\"28.396875\"/>\r\n  </clipPath>\r\n </defs>\r\n</svg>\r\n",
      "image/png": "[encoded data removed]"
     },
     "metadata": {}
    }
   ],
   "source": [
    "# 8. Using the object-oriented interface method, plot the resample DataFrame using the df.plot() function. \n",
    "# Import the style from Matplotlib.\n",
    "from matplotlib import style\n",
    "# Use the graph style fivethirtyeight.\n",
    "style.use('fivethirtyeight')\n",
    "\n",
    "\n",
    "Q12019_date_type_week.plot()\n",
    "plt.title(\"Total Fare by City Type\", fontsize=20)\n",
    "plt.ylabel(\"Fare ($USD)\", fontsize=12)\n",
    "plt.xlabel(\"\", fontsize=12)\n",
    "plt.savefig(\"Analysis/PyBer_fare_summary.png.png\")\n",
    "plt.show()"
   ]
  },
  {
   "cell_type": "code",
   "execution_count": null,
   "metadata": {},
   "outputs": [],
   "source": []
  }
 ],
 "metadata": {
  "anaconda-cloud": {},
  "kernelspec": {
   "display_name": "PythonData",
   "language": "python",
   "name": "pythondata"
  },
  "language_info": {
   "codemirror_mode": {
    "name": "ipython",
    "version": 3
   },
   "file_extension": ".py",
   "mimetype": "text/x-python",
   "name": "python",
   "nbconvert_exporter": "python",
   "pygments_lexer": "ipython3",
   "version": "3.7.9-final"
  }
 },
 "nbformat": 4,
 "nbformat_minor": 2
}